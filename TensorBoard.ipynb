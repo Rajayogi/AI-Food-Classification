{
 "cells": [
  {
   "cell_type": "code",
   "execution_count": 1,
   "metadata": {},
   "outputs": [
    {
     "name": "stderr",
     "output_type": "stream",
     "text": [
      "/anaconda3/envs/tf-cpu/lib/python3.5/site-packages/h5py/__init__.py:36: FutureWarning: Conversion of the second argument of issubdtype from `float` to `np.floating` is deprecated. In future, it will be treated as `np.float64 == np.dtype(float).type`.\n",
      "  from ._conv import register_converters as _register_converters\n"
     ]
    }
   ],
   "source": [
    "import tensorflow as tf\n",
    "import pandas as pd\n",
    "import numpy as np\n",
    "import random\n",
    "import datetime"
   ]
  },
  {
   "cell_type": "markdown",
   "metadata": {},
   "source": [
    "# Define cost, optimizer and accuracy. Set up FileWriter."
   ]
  },
  {
   "cell_type": "code",
   "execution_count": 11,
   "metadata": {},
   "outputs": [
    {
     "data": {
      "text/plain": [
       "'\\nmodel = None\\nY = None\\n\\nloss = tf.reduce_mean(tf.nn.softmax_cross_entropy_with_logits(logits = model, labels=Y))\\noptimizer = tf.train.AdamOptimizer(learning_rate=learningrate)\\ntrain_min = optimizer.minimize(loss)\\n\\ncorrect_prediction = tf.equal(tf.argmax(model, 1), tf.argmax(Y, 1))\\naccuracy = tf.reduce_mean(tf.cast(correct_prediction, tf.float32))\\n\\ntf.summary.histogram(\"weight_1\",weights[\\'h1\\'])\\ntf.summary.histogram(\"weight_2\",weights[\\'h2\\'])\\ntf.summary.scalar(\"loss\", loss)\\nmerged_summary_op = tf.summary.merge_all()\\nfilename=\"./summary_log/run\"+datetime.datetime.now().strftime(\"%Y-%m-%d-%H-%M-%S\")\\nwriter = tf.summary.FileWriter(filename, tf.get_default_graph())\\n\\ninit = tf.global_variables_initializer()\\n'"
      ]
     },
     "execution_count": 11,
     "metadata": {},
     "output_type": "execute_result"
    }
   ],
   "source": [
    "'''\n",
    "model = None\n",
    "Y = None\n",
    "\n",
    "loss = tf.reduce_mean(tf.nn.softmax_cross_entropy_with_logits(logits = model, labels=Y))\n",
    "optimizer = tf.train.AdamOptimizer(learning_rate=learningrate)\n",
    "train_min = optimizer.minimize(loss)\n",
    "\n",
    "correct_prediction = tf.equal(tf.argmax(model, 1), tf.argmax(Y, 1))\n",
    "accuracy = tf.reduce_mean(tf.cast(correct_prediction, tf.float32))\n",
    "\n",
    "tf.summary.histogram(\"weight_1\",weights['h1'])\n",
    "tf.summary.histogram(\"weight_2\",weights['h2'])\n",
    "tf.summary.scalar(\"loss\", loss)\n",
    "merged_summary_op = tf.summary.merge_all()\n",
    "filename=\"./summary_log/run\"+datetime.datetime.now().strftime(\"%Y-%m-%d-%H-%M-%S\")\n",
    "writer = tf.summary.FileWriter(filename, tf.get_default_graph())\n",
    "\n",
    "init = tf.global_variables_initializer()\n",
    "'''"
   ]
  },
  {
   "cell_type": "markdown",
   "metadata": {},
   "source": [
    "# Run the session"
   ]
  },
  {
   "cell_type": "code",
   "execution_count": 12,
   "metadata": {},
   "outputs": [
    {
     "data": {
      "text/plain": [
       "'\\n\\nwith tf.Session() as sess:\\n    sess.run(init)\\n    \\n    for steps in range(1, nsteps+1):\\n        batch_x, batch_y=mnist.train.next_batch(batchsize)\\n        sess.run(train_min, feed_dict={X:batch_x, Y:batch_y})\\n        \\n        if steps % 100 == 0:\\n            losscalc, accuracycalc, merged_summary =                       sess.run([loss, accuracy, merged_summary_op], feed_dict={X:batch_x, Y:batch_y})\\n            print(\"Training Loss: %0.4f, Accuracy: %0.4f\"%(losscalc, accuracycalc))\\n            writer.add_summary(merged_summary, steps)\\n        \\nwriter.close()\\n\\n'"
      ]
     },
     "execution_count": 12,
     "metadata": {},
     "output_type": "execute_result"
    }
   ],
   "source": [
    "'''\n",
    "\n",
    "with tf.Session() as sess:\n",
    "    sess.run(init)\n",
    "    \n",
    "    for steps in range(1, nsteps+1):\n",
    "        batch_x, batch_y=mnist.train.next_batch(batchsize)\n",
    "        sess.run(train_min, feed_dict={X:batch_x, Y:batch_y})\n",
    "        \n",
    "        if steps % 100 == 0:\n",
    "            losscalc, accuracycalc, merged_summary = \\\n",
    "                      sess.run([loss, accuracy, merged_summary_op], feed_dict={X:batch_x, Y:batch_y})\n",
    "            print(\"Training Loss: %0.4f, Accuracy: %0.4f\"%(losscalc, accuracycalc))\n",
    "            writer.add_summary(merged_summary, steps)\n",
    "        \n",
    "writer.close()\n",
    "\n",
    "'''"
   ]
  },
  {
   "cell_type": "code",
   "execution_count": null,
   "metadata": {},
   "outputs": [],
   "source": []
  }
 ],
 "metadata": {
  "kernelspec": {
   "display_name": "Python 3",
   "language": "python",
   "name": "python3"
  },
  "language_info": {
   "codemirror_mode": {
    "name": "ipython",
    "version": 3
   },
   "file_extension": ".py",
   "mimetype": "text/x-python",
   "name": "python",
   "nbconvert_exporter": "python",
   "pygments_lexer": "ipython3",
   "version": "3.5.2"
  },
  "widgets": {
   "state": {},
   "version": "1.1.2"
  }
 },
 "nbformat": 4,
 "nbformat_minor": 2
}
