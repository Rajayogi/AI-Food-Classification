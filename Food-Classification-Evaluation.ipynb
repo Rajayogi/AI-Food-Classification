{
 "cells": [
  {
   "cell_type": "code",
   "execution_count": null,
   "metadata": {},
   "outputs": [],
   "source": [
    "import os\n",
    "import pandas as pd\n",
    "import numpy as np\n",
    "import random\n",
    "import tensorflow as tf\n",
    "import matplotlib.image as mpimg"
   ]
  },
  {
   "cell_type": "markdown",
   "metadata": {},
   "source": [
    "### Validate Data Path"
   ]
  },
  {
   "cell_type": "code",
   "execution_count": null,
   "metadata": {},
   "outputs": [],
   "source": [
    "cwd = os.getcwd()\n",
    "\n",
    "## Place the data in Food-11 directory\n",
    "data_in_dir = os.path.join(cwd, \"Food-11\")\n",
    "assert(os.path.isdir(data_in_dir))\n",
    "\n",
    "subdirs = {\n",
    "    'train' : 'training',\n",
    "    'valid' : 'validation',\n",
    "    'eval'  : 'evaluation'}\n",
    "dirs = os.listdir(data_in_dir)\n",
    "\n",
    "## Validate we have these 3 subdirectories\n",
    "assert(len(dirs) == len(subdirs) and sorted(dirs) == sorted(subdirs.values()))\n",
    "   \n",
    "## Validate that we have the sored data from EDA in pickle format\n",
    "pickle_dir = os.path.join(cwd, \"food-classification-pickle_data\")\n",
    "assert(os.path.isdir(pickle_dir))\n",
    "data_files = os.listdir(pickle_dir)\n",
    "data_files\n",
    "datastore_files = {\n",
    "    'train' : 'training.pickle',\n",
    "    'valid' : 'validation.pickle',\n",
    "    'eval'  : 'evaluation.pickle'}\n",
    "## Validate we have these 3 datafiles\n",
    "assert(len(data_files) == len(datastore_files) and sorted(data_files) == sorted(datastore_files.values()))"
   ]
  },
  {
   "cell_type": "markdown",
   "metadata": {},
   "source": [
    "### Read data from pickle file to dataframes"
   ]
  },
  {
   "cell_type": "code",
   "execution_count": null,
   "metadata": {},
   "outputs": [],
   "source": [
    "eval_data = pd.read_pickle(os.path.join(pickle_dir, datastore_files['eval']))\n",
    "MAX_LABELS = len(eval_data.Label.unique())\n",
    "print(eval_data.shape)"
   ]
  },
  {
   "cell_type": "markdown",
   "metadata": {},
   "source": [
    "## Dump the dataframe to file to feed it into Alexnet"
   ]
  },
  {
   "cell_type": "code",
   "execution_count": null,
   "metadata": {},
   "outputs": [],
   "source": [
    "# Path to the textfiles for the trainings and validation set\n",
    "eval_file = 'eval.txt'\n",
    "eval_data.to_csv(eval_file, sep=\" \", header=False, index=False)"
   ]
  },
  {
   "cell_type": "markdown",
   "metadata": {},
   "source": [
    "# Alexnet Training\n",
    "Author: Frederik Kratzert\n",
    "contact: f.kratzert(at)gmail.com"
   ]
  },
  {
   "cell_type": "code",
   "execution_count": null,
   "metadata": {},
   "outputs": [],
   "source": [
    "from alexnet import AlexNet\n",
    "from datagenerator import ImageDataGenerator\n",
    "from datetime import datetime"
   ]
  },
  {
   "cell_type": "markdown",
   "metadata": {},
   "source": [
    "### Hyper Parameters"
   ]
  },
  {
   "cell_type": "code",
   "execution_count": null,
   "metadata": {},
   "outputs": [],
   "source": [
    "# Learning params\n",
    "learning_rate = 0.005\n",
    "num_epochs = 1\n",
    "batch_size = 128\n",
    "\n",
    "# Network params\n",
    "dropout_rate = 0.5\n",
    "num_classes = 11\n",
    "\n",
    "# How often we want to write the tf.summary data to disk\n",
    "display_step = 20"
   ]
  },
  {
   "cell_type": "markdown",
   "metadata": {},
   "source": [
    "## Input placeholders"
   ]
  },
  {
   "cell_type": "code",
   "execution_count": null,
   "metadata": {},
   "outputs": [],
   "source": [
    "# TF placeholder for graph input and output\n",
    "x = tf.placeholder(tf.float32, [batch_size, 227, 227, 3])\n",
    "y = tf.placeholder(tf.float32, [batch_size, num_classes])\n",
    "keep_prob = tf.placeholder(tf.float32)"
   ]
  },
  {
   "cell_type": "markdown",
   "metadata": {},
   "source": [
    "## Define Model"
   ]
  },
  {
   "cell_type": "code",
   "execution_count": null,
   "metadata": {},
   "outputs": [],
   "source": [
    "train_layers = ['fc8', 'fc7', 'fc6']\n",
    "# Initialize model\n",
    "model = AlexNet(x, keep_prob, num_classes, train_layers)\n",
    "\n",
    "# Link variable to model output\n",
    "score = model.fc8\n",
    "\n",
    "# List of trainable variables of the layers we want to train\n",
    "var_list = [v for v in tf.trainable_variables() if v.name.split('/')[0] in train_layers]"
   ]
  },
  {
   "cell_type": "markdown",
   "metadata": {},
   "source": [
    "## Define loss optimizer"
   ]
  },
  {
   "cell_type": "code",
   "execution_count": null,
   "metadata": {},
   "outputs": [],
   "source": [
    "# Op for calculating the loss\n",
    "with tf.name_scope(\"cross_ent\"):\n",
    "    loss = tf.reduce_mean(tf.nn.softmax_cross_entropy_with_logits(logits=score,\n",
    "                                                                  labels=y))\n",
    "\n",
    "# Train op\n",
    "with tf.name_scope(\"train\"):\n",
    "    # Get gradients of all trainable variables\n",
    "    gradients = tf.gradients(loss, var_list)\n",
    "    gradients = list(zip(gradients, var_list))\n",
    "\n",
    "    # Create optimizer and apply gradient descent to the trainable variables\n",
    "    optimizer = tf.train.GradientDescentOptimizer(learning_rate)\n",
    "    train_op = optimizer.apply_gradients(grads_and_vars=gradients)"
   ]
  },
  {
   "cell_type": "markdown",
   "metadata": {},
   "source": [
    "## Define Tensorboard and Checkpoint Variables "
   ]
  },
  {
   "cell_type": "code",
   "execution_count": null,
   "metadata": {},
   "outputs": [],
   "source": [
    "# Evaluation op: Accuracy of the model\n",
    "with tf.name_scope(\"accuracy\"):\n",
    "    correct_pred = tf.equal(tf.argmax(score, 1), tf.argmax(y, 1))\n",
    "    accuracy = tf.reduce_mean(tf.cast(correct_pred, tf.float32))\n",
    "\n",
    "# Initialize an saver for store model checkpoints\n",
    "saver = tf.train.Saver()"
   ]
  },
  {
   "cell_type": "markdown",
   "metadata": {},
   "source": [
    "## Pick the latest results if session is restarted"
   ]
  },
  {
   "cell_type": "code",
   "execution_count": null,
   "metadata": {},
   "outputs": [],
   "source": [
    "checkpoint_path = \"checkpoints\"\n",
    "latest_run_path = tf.train.latest_checkpoint(checkpoint_path)\n",
    "assert(latest_run_path)"
   ]
  },
  {
   "cell_type": "markdown",
   "metadata": {},
   "source": [
    "## Evaluation"
   ]
  },
  {
   "cell_type": "markdown",
   "metadata": {},
   "source": [
    "### Prepare evaluation data"
   ]
  },
  {
   "cell_type": "code",
   "execution_count": null,
   "metadata": {},
   "outputs": [],
   "source": [
    "# Place data loading and preprocessing on the cpu\n",
    "with tf.device('/cpu:0'):\n",
    "    eval_data = ImageDataGenerator(eval_file,\n",
    "                                  mode='inference',\n",
    "                                  batch_size=batch_size,\n",
    "                                  num_classes=num_classes,\n",
    "                                  shuffle=False)\n",
    "\n",
    "    # create an reinitializable iterator given the dataset structure\n",
    "    iterator = tf.data.Iterator.from_structure(eval_data.data.output_types,\n",
    "                                       eval_data.data.output_shapes)\n",
    "    next_batch = iterator.get_next()\n",
    "\n",
    "# Ops for initializing the eval iterator\n",
    "evlauation_init_op = iterator.make_initializer(eval_data.data)\n",
    "eval_batches_per_epoch = int(np.floor(eval_data.data_size / batch_size))"
   ]
  },
  {
   "cell_type": "markdown",
   "metadata": {},
   "source": [
    "### Evaluation run"
   ]
  },
  {
   "cell_type": "code",
   "execution_count": null,
   "metadata": {},
   "outputs": [],
   "source": [
    "# Start Tensorflow session\n",
    "with tf.Session() as sess:\n",
    "\n",
    "    # Initialize all variables\n",
    "    sess.run(tf.global_variables_initializer())\n",
    "\n",
    "    # Load the pretrained weights into the non-trainable layer\n",
    "    #model.load_initial_weights(sess)\n",
    "\n",
    "    print(\"{} Start Evaluation...\".format(datetime.now()))\n",
    "\n",
    "    # Initialize iterator with the training dataset\n",
    "    sess.run(evlauation_init_op)\n",
    "    saver.restore(sess, latest_run_path)\n",
    "\n",
    "    # Evaluation the model on the entire evlauation set\n",
    "    print(\"{} Start Evaluation\".format(datetime.now()))\n",
    "    test_acc = 0.\n",
    "    test_count = 0\n",
    "    for _ in range(eval_batches_per_epoch):\n",
    "        img_batch, label_batch = sess.run(next_batch)\n",
    "        acc = sess.run(accuracy, feed_dict={x: img_batch,\n",
    "                                            y: label_batch,\n",
    "                                            keep_prob: 1.})\n",
    "        test_acc += acc\n",
    "        test_count += 1\n",
    "    test_acc /= test_count\n",
    "    print(\"{} Evaluation Accuracy = {:.4f}\".format(datetime.now(), test_acc))"
   ]
  },
  {
   "cell_type": "code",
   "execution_count": null,
   "metadata": {},
   "outputs": [],
   "source": []
  }
 ],
 "metadata": {
  "kernelspec": {
   "display_name": "Python 3",
   "language": "python",
   "name": "python3"
  },
  "language_info": {
   "codemirror_mode": {
    "name": "ipython",
    "version": 3
   },
   "file_extension": ".py",
   "mimetype": "text/x-python",
   "name": "python",
   "nbconvert_exporter": "python",
   "pygments_lexer": "ipython3",
   "version": "3.5.2"
  },
  "widgets": {
   "state": {},
   "version": "1.1.2"
  }
 },
 "nbformat": 4,
 "nbformat_minor": 2
}
