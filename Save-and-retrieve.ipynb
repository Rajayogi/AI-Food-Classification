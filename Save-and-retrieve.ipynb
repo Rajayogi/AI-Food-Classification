{
 "cells": [
  {
   "cell_type": "markdown",
   "metadata": {},
   "source": [
    "Methods for saving a checkpoint and retrieving it"
   ]
  },
  {
   "cell_type": "code",
   "execution_count": null,
   "metadata": {},
   "outputs": [],
   "source": [
    "import tensorflow as tf\n",
    "import numpy as np\n",
    "\n",
    "weights_folder = './weights/'"
   ]
  },
  {
   "cell_type": "code",
   "execution_count": 1,
   "metadata": {},
   "outputs": [],
   "source": [
    "'''\n",
    "@param sess: current session (required)\n",
    "'''\n",
    "def saveCheckpoint(sess):\n",
    "    saver = tf.train.Saver()\n",
    "    saver.save(sess, \".\" + weights_folder + \"model.ckpt\")"
   ]
  },
  {
   "cell_type": "code",
   "execution_count": 1,
   "metadata": {},
   "outputs": [],
   "source": [
    "'''\n",
    "Fetches and returns the latest checkpoint file\n",
    "@param latest_filename: (optional) If a filename is known, that can be retrieved\n",
    "'''\n",
    "def getLatestCheckpoint(latest_filename=None):\n",
    "    return tf.train.latest_checkpoint(weights_folder, latest_filename=None)"
   ]
  },
  {
   "cell_type": "code",
   "execution_count": 3,
   "metadata": {},
   "outputs": [],
   "source": [
    "def getLatestVariables(sess):\n",
    "    return tf.train.Saver().restore(sess)"
   ]
  },
  {
   "cell_type": "code",
   "execution_count": null,
   "metadata": {},
   "outputs": [],
   "source": []
  }
 ],
 "metadata": {
  "kernelspec": {
   "display_name": "Python 3",
   "language": "python",
   "name": "python3"
  },
  "language_info": {
   "codemirror_mode": {
    "name": "ipython",
    "version": 3
   },
   "file_extension": ".py",
   "mimetype": "text/x-python",
   "name": "python",
   "nbconvert_exporter": "python",
   "pygments_lexer": "ipython3",
   "version": "3.5.2"
  },
  "widgets": {
   "state": {},
   "version": "1.1.2"
  }
 },
 "nbformat": 4,
 "nbformat_minor": 2
}
